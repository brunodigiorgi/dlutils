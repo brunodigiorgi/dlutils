{
 "cells": [
  {
   "cell_type": "markdown",
   "metadata": {
    "deletable": true,
    "editable": true,
    "toc": "true"
   },
   "source": [
    "# Table of Contents\n",
    " <p><div class=\"lev2 toc-item\"><a href=\"#Regression\" data-toc-modified-id=\"Regression-01\"><span class=\"toc-item-num\">0.1&nbsp;&nbsp;</span>Regression</a></div><div class=\"lev2 toc-item\"><a href=\"#Divine-Comedy\" data-toc-modified-id=\"Divine-Comedy-02\"><span class=\"toc-item-num\">0.2&nbsp;&nbsp;</span>Divine Comedy</a></div><div class=\"lev4 toc-item\"><a href=\"#Generate\" data-toc-modified-id=\"Generate-0201\"><span class=\"toc-item-num\">0.2.0.1&nbsp;&nbsp;</span>Generate</a></div><div class=\"lev2 toc-item\"><a href=\"#Very-short-text\" data-toc-modified-id=\"Very-short-text-03\"><span class=\"toc-item-num\">0.3&nbsp;&nbsp;</span>Very short text</a></div><div class=\"lev4 toc-item\"><a href=\"#Generate-dataset-for-seq2seq-RNN\" data-toc-modified-id=\"Generate-dataset-for-seq2seq-RNN-0301\"><span class=\"toc-item-num\">0.3.0.1&nbsp;&nbsp;</span>Generate dataset for seq2seq RNN</a></div><div class=\"lev4 toc-item\"><a href=\"#Robbie-Williams-Dataset\" data-toc-modified-id=\"Robbie-Williams-Dataset-0302\"><span class=\"toc-item-num\">0.3.0.2&nbsp;&nbsp;</span>Robbie Williams Dataset</a></div>"
   ]
  },
  {
   "cell_type": "code",
   "execution_count": 1,
   "metadata": {
    "collapsed": false,
    "deletable": true,
    "editable": true
   },
   "outputs": [],
   "source": [
    "import dlutils\n",
    "% matplotlib inline\n",
    "\n",
    "def to_str(data, translator):\n",
    "    return ''.join(translator.to_symbol(data))"
   ]
  },
  {
   "cell_type": "markdown",
   "metadata": {
    "deletable": true,
    "editable": true
   },
   "source": [
    "## Regression"
   ]
  },
  {
   "cell_type": "code",
   "execution_count": 2,
   "metadata": {
    "collapsed": true,
    "deletable": true,
    "editable": true
   },
   "outputs": [],
   "source": [
    "N = 100\n",
    "data = np.sin(2 * np.pi * np.arange(N) / 20)\n",
    "\n",
    "# filtered noise\n",
    "data = np.random.randn(N)\n",
    "#h = sp.signal.firwin(10, .1)\n",
    "#data = sp.signal.lfilter(h, 1, data)"
   ]
  },
  {
   "cell_type": "code",
   "execution_count": 3,
   "metadata": {
    "collapsed": false,
    "deletable": true,
    "editable": true
   },
   "outputs": [],
   "source": [
    "data = np.expand_dims(data, -1)\n",
    "N_split = 10\n",
    "slen = data.shape[0] // N_split\n",
    "data = [data[i*slen:(i+1)*slen, :] for i in range(N_split)]"
   ]
  },
  {
   "cell_type": "code",
   "execution_count": 4,
   "metadata": {
    "collapsed": true,
    "deletable": true,
    "editable": true
   },
   "outputs": [],
   "source": [
    "batch_size = 2\n",
    "rnn_layers = [{'num_units': 32}, {'num_units': 32}]\n",
    "dense_layers = [{'num_units': 1, \"activation\": \"tanh\"}]\n",
    "nfolds = 5\n",
    "max_epochs = 128\n",
    "keep_prob = 1.0\n",
    "learning_rate = 0.1\n",
    "optimizer = \"Adam\""
   ]
  },
  {
   "cell_type": "code",
   "execution_count": 5,
   "metadata": {
    "collapsed": false,
    "deletable": true,
    "editable": true
   },
   "outputs": [],
   "source": [
    "data_inputs, data_targets = dlutils.dataset.LM_input_and_targets_from_inputs(data)\n",
    "dataset = dlutils.dataset.Dataset_seq2seq(data_inputs, data_targets)"
   ]
  },
  {
   "cell_type": "code",
   "execution_count": 6,
   "metadata": {
    "collapsed": false,
    "deletable": true,
    "editable": true
   },
   "outputs": [],
   "source": [
    "input_stage = dlutils.models.RNNLM_TF_InputStage_Regression(1)\n",
    "output_stage = dlutils.models.RNNLM_TF_OutputStage_Regression(1)\n",
    "feedback_stage = dlutils.models.RNNLM_TF_FeedbackStage_Noop()\n",
    "model = dlutils.models.RNNLM_TF(input_stage, output_stage, feedback_stage, rnn_layers, dense_layers, \n",
    "                         init_scale=0.1, optimizer=optimizer, learning_rate=learning_rate, \n",
    "                         keep_prob=keep_prob)"
   ]
  },
  {
   "cell_type": "code",
   "execution_count": 7,
   "metadata": {
    "collapsed": false,
    "deletable": true,
    "editable": true
   },
   "outputs": [],
   "source": [
    "logger = dlutils.train.HtmlLogger(\"./log_dir\", \"loss\", log_every_step=10)\n",
    "es_condition = dlutils.train.ESCondition_1()\n",
    "early_stopping = dlutils.train.EarlyStopping(es_condition)\n",
    "trainer = dlutils.train.rnn.Trainer(dataset, model, batch_size=batch_size, logger=logger, nfolds=nfolds, max_fold=1, early_stopping=early_stopping, save_every=10)"
   ]
  },
  {
   "cell_type": "code",
   "execution_count": 8,
   "metadata": {
    "collapsed": true,
    "deletable": true,
    "editable": true
   },
   "outputs": [],
   "source": [
    "model.set_learning_rate(0.01)"
   ]
  },
  {
   "cell_type": "code",
   "execution_count": 10,
   "metadata": {
    "collapsed": false,
    "deletable": true,
    "editable": true,
    "scrolled": true
   },
   "outputs": [
    {
     "name": "stdout",
     "output_type": "stream",
     "text": [
      "new model:  ./log_dir/20170226161926.json ./log_dir/20170226161926.html\n",
      "GL/TP: 0.0 / inf = 0.0\n",
      "GL/TP: 0.00327823865273 / inf = 0.0\n",
      "GL/TP: 0.0 / inf = 0.0\n",
      "GL/TP: 0.00537857016331 / inf = 0.0\n",
      "GL/TP: 0.0082722403134 / inf = 0.0\n",
      "GL/TP: 0.0 / inf = 0.0\n",
      "GL/TP: 0.020539666908 / inf = 0.0\n",
      "GL/TP: 0.0 / inf = 0.0\n",
      "GL/TP: 0.00603133007351 / inf = 0.0\n",
      "GL/TP: 0.0 / 0.216096617765 = 0.0\n",
      "GL/TP: 0.00376020160064 / 0.18416921631 = 0.0204171015981\n",
      "GL/TP: 0.0 / 0.362747974621 = 0.0\n",
      "GL/TP: 0.16868295336 / 0.351128284069 = 0.480402636338\n",
      "GL/TP: 0.0386864443431 / 0.314134008273 = 0.123152677915\n",
      "GL/TP: 0.00672600301473 / 0.317043097008 = 0.0212147909171\n",
      "GL/TP: 0.396862698976 / 0.367449032968 = 1.08004828798\n",
      "GL/TP: 0.139859211519 / 0.340236873421 = 0.411064239195\n",
      "GL/TP: 0.101694859003 / 0.299293477003 = 0.33978307854\n",
      "GL/TP: 0.18628151349 / 0.302900134644 = 0.614993168321\n",
      "GL/TP: 0.405977422484 / 0.383382355672 = 1.05893611555\n",
      "GL/TP: 0.417341372344 / 0.314559516594 = 1.32674851762\n",
      "GL/TP: 0.58558987146 / 0.328597789435 = 1.78208706902\n"
     ]
    }
   ],
   "source": [
    "trainer.train(contd=False)"
   ]
  },
  {
   "cell_type": "code",
   "execution_count": 63,
   "metadata": {
    "collapsed": false
   },
   "outputs": [
    {
     "data": {
      "text/plain": [
       "[(array([0, 1, 3, 4, 5, 6, 8, 9]), array([2, 7])),\n",
       " (array([0, 1, 2, 3, 5, 6, 7, 9]), array([4, 8])),\n",
       " (array([1, 2, 3, 4, 6, 7, 8, 9]), array([0, 5])),\n",
       " (array([0, 1, 2, 3, 4, 5, 7, 8]), array([6, 9])),\n",
       " (array([0, 2, 4, 5, 6, 7, 8, 9]), array([1, 3]))]"
      ]
     },
     "execution_count": 63,
     "metadata": {},
     "output_type": "execute_result"
    }
   ],
   "source": [
    "trainer.k_fold"
   ]
  },
  {
   "cell_type": "code",
   "execution_count": 13,
   "metadata": {
    "collapsed": true,
    "deletable": true,
    "editable": true
   },
   "outputs": [],
   "source": [
    "data = np.sin(2 * np.pi * np.arange(100000) / 20)\n",
    "data = np.expand_dims(data, -1)"
   ]
  },
  {
   "cell_type": "code",
   "execution_count": 72,
   "metadata": {
    "collapsed": false,
    "deletable": true,
    "editable": true
   },
   "outputs": [
    {
     "data": {
      "image/png": "[encoded data removed]",
      "text/plain": [
       "<matplotlib.figure.Figure at 0x11956f208>"
      ]
     },
     "metadata": {},
     "output_type": "display_data"
    }
   ],
   "source": [
    "iseq = 7\n",
    "ofs = 0\n",
    "priming_len = 3\n",
    "priming_seq = data[iseq][ofs:ofs+priming_len, :]\n",
    "length = len(data[iseq]) - priming_len - ofs\n",
    "outputs = model.generate(priming_seq, length)\n",
    "outputs = np.array(outputs)\n",
    "plt.plot(np.arange(priming_len+length), data[iseq][ofs:ofs+priming_len+length, :])\n",
    "plt.plot(priming_len + np.arange(length), outputs[:, 0])\n",
    "plt.grid(alpha=.5)"
   ]
  },
  {
   "cell_type": "markdown",
   "metadata": {
    "deletable": true,
    "editable": true
   },
   "source": [
    "## Divine Comedy"
   ]
  },
  {
   "cell_type": "code",
   "execution_count": 9,
   "metadata": {
    "collapsed": true,
    "deletable": true,
    "editable": true
   },
   "outputs": [],
   "source": [
    "with open('data/ladivinacommedia.txt', 'r') as f:\n",
    "    data = f.read()\n",
    "data = data.lower().split(sep='\\n\\n')\n",
    "data = [list(d) for d in data]"
   ]
  },
  {
   "cell_type": "code",
   "execution_count": 10,
   "metadata": {
    "collapsed": true,
    "deletable": true,
    "editable": true
   },
   "outputs": [],
   "source": [
    "batch_size = 16\n",
    "vocabulary_size = 40\n",
    "rnn_layers = [{'num_units': 32}, {'num_units': 32}]\n",
    "dense_layers = [{'num_units': vocabulary_size}]\n",
    "nfolds = 1\n",
    "max_epochs = 1024\n",
    "keep_prob = 1.0\n",
    "learning_rate = 0.1\n",
    "optimizer = \"Adam\""
   ]
  },
  {
   "cell_type": "code",
   "execution_count": 11,
   "metadata": {
    "collapsed": false,
    "deletable": true,
    "editable": true
   },
   "outputs": [],
   "source": [
    "translator = dlutils.dataset.DatasetTranslator(data, vocabulary_size=vocabulary_size)\n",
    "data_int = translator.to_int(data)\n",
    "data_int = [np.expand_dims(d, -1) for d in data_int]\n",
    "data_int = data_int[0:2]\n",
    "nsymbols = len(translator.alphabet)"
   ]
  },
  {
   "cell_type": "code",
   "execution_count": 12,
   "metadata": {
    "collapsed": false,
    "deletable": true,
    "editable": true,
    "scrolled": true
   },
   "outputs": [],
   "source": [
    "data_inputs, data_targets = dlutils.dataset.LM_input_and_targets_from_inputs(data_int)\n",
    "dataset = dlutils.dataset.Dataset_seq2seq(data_inputs, data_targets)"
   ]
  },
  {
   "cell_type": "code",
   "execution_count": 18,
   "metadata": {
    "collapsed": false,
    "deletable": true,
    "editable": true
   },
   "outputs": [],
   "source": [
    "input_stage = dlutils.models.RNNLM_TF_InputStage_OneHot(vocabulary_size)\n",
    "output_stage = dlutils.models.RNNLM_TF_OutputStage_Classification(vocabulary_size)\n",
    "feedback_stage = dlutils.models.RNNLM_TF_FeedbackStage_Sampler(temperature=.7, avoid=[translator.unknown_int])\n",
    "model = dlutils.models.RNNLM_TF(input_stage, output_stage, feedback_stage, rnn_layers, dense_layers, \n",
    "                         init_scale=0.1, optimizer=optimizer, learning_rate=learning_rate, \n",
    "                         keep_prob=keep_prob)"
   ]
  },
  {
   "cell_type": "code",
   "execution_count": 15,
   "metadata": {
    "collapsed": false,
    "deletable": true,
    "editable": true
   },
   "outputs": [],
   "source": [
    "logger = dlutils.train.HtmlLogger(\"./log_dir\", \"loss\")\n",
    "trainer = dlutils.train.rnn.Trainer(dataset, model, batch_size=batch_size, logger=logger, nfolds=nfolds, max_epochs=max_epochs, save_every=10)"
   ]
  },
  {
   "cell_type": "code",
   "execution_count": null,
   "metadata": {
    "collapsed": false,
    "deletable": true,
    "editable": true
   },
   "outputs": [],
   "source": [
    "trainer.train()"
   ]
  },
  {
   "cell_type": "markdown",
   "metadata": {
    "deletable": true,
    "editable": true
   },
   "source": [
    "#### Generate"
   ]
  },
  {
   "cell_type": "code",
   "execution_count": 16,
   "metadata": {
    "collapsed": false,
    "deletable": true,
    "editable": true
   },
   "outputs": [],
   "source": [
    "rnn_layers = [{'num_units': 512}, {'num_units': 512}]\n",
    "dense_layers = [{'num_units': vocabulary_size}]"
   ]
  },
  {
   "cell_type": "code",
   "execution_count": 19,
   "metadata": {
    "collapsed": false,
    "deletable": true,
    "editable": true
   },
   "outputs": [],
   "source": [
    "model.load('models/20170102093806_0_100.ckpt')"
   ]
  },
  {
   "cell_type": "code",
   "execution_count": 21,
   "metadata": {
    "collapsed": false,
    "deletable": true,
    "editable": true
   },
   "outputs": [
    {
     "name": "stdout",
     "output_type": "stream",
     "text": [
      "nel mezzo del cammin di nostra vita\n",
      "mi ritrovai per una selva os\n"
     ]
    }
   ],
   "source": [
    "priming_seq_len = 64\n",
    "iseq = 0\n",
    "ofs = 0\n",
    "priming_seq = data_int[iseq][ofs:priming_seq_len+ofs, :]\n",
    "priming_seq = priming_seq[:, 0]\n",
    "priming_str = to_str(priming_seq, translator)\n",
    "print(priming_str)"
   ]
  },
  {
   "cell_type": "code",
   "execution_count": null,
   "metadata": {
    "collapsed": false,
    "deletable": true,
    "editable": true
   },
   "outputs": [],
   "source": [
    "probs = model.predict(np.expand_dims(priming_seq, 0))\n",
    "for i in np.argsort(probs[0]):\n",
    "    print(translator.to_symbol(i), probs[0, i])"
   ]
  },
  {
   "cell_type": "code",
   "execution_count": 22,
   "metadata": {
    "collapsed": false,
    "deletable": true,
    "editable": true,
    "scrolled": false
   },
   "outputs": [
    {
     "name": "stdout",
     "output_type": "stream",
     "text": [
      "nel mezzo del cammin di nostra vita\n",
      "mi ritrovai per una selva ospinta:\n",
      "disse: «e qui s'attrasse il disio,\n",
      "per lo sol circila ancor, fior nel foco,\n",
      "ch'è donna ascaltar nel primo vento,\n",
      "se si piovvò li occhi sommate d'almi,\n",
      "quando veder dove soto mai ci darte,\n",
      "e ver' lo terpo la mente trove,\n",
      "sì che fu costui fin che mi fece affonno,\n",
      "lo monte fermo ad ogne ver' lui,\n",
      "per tra donna de la volla e l'intra traggole,\n",
      "simile il duca mio, mo acqua non compo\n",
      "a le sue parole per deperte immanni:\n",
      "«se tu veder pur rive ne la forza,\n",
      "sù ch'al perto che ne l'altre sermine\n",
      "tarder mi porse a la feste in solo,\n",
      "come fier men ciò che ne la costa,\n",
      "d'i passi sotto per l'alta per te le melli,\n",
      "come le denti a che sù lo strave\n",
      "a me imperador che tu tempre celo,\n",
      "e va 'l fosso stesso un pinto semisto\n",
      "tenne creder, venimmo in cotal face!».\n",
      "veggio; ma la parole non strette,\n",
      "e quel con altro pensava con arti,\n",
      "sì che, sovra sette oncrarmi al primo;\n",
      "e dimmi, forse logdo e quel mente\n",
      "a l'altro donno, e vuol che mi tacque?».\n",
      "ma io stata ferona farà nol parso,\n",
      "col perché n'esser parole\n"
     ]
    }
   ],
   "source": [
    "length = 1000\n",
    "outputs = model.generate(priming_seq, length)\n",
    "out_list = [o_[0] for o_ in outputs]\n",
    "out_str = to_str(out_list, translator)\n",
    "print(priming_str + out_str)"
   ]
  },
  {
   "cell_type": "markdown",
   "metadata": {
    "deletable": true,
    "editable": true
   },
   "source": [
    "## Very short text"
   ]
  },
  {
   "cell_type": "code",
   "execution_count": 2,
   "metadata": {
    "collapsed": false,
    "deletable": true,
    "editable": true
   },
   "outputs": [],
   "source": [
    "import dlutils"
   ]
  },
  {
   "cell_type": "code",
   "execution_count": 3,
   "metadata": {
    "collapsed": true,
    "deletable": true,
    "editable": true
   },
   "outputs": [],
   "source": [
    "batch_size = 2\n",
    "vocabulary_size = None\n",
    "rnn_layers = [{'num_units': 32}]\n",
    "keep_prob = 1\n",
    "nfolds = 1\n",
    "max_epochs = 64\n",
    "learning_rate = 0.1\n",
    "optimizer = \"Adam\""
   ]
  },
  {
   "cell_type": "code",
   "execution_count": 4,
   "metadata": {
    "collapsed": false,
    "deletable": true,
    "editable": true
   },
   "outputs": [
    {
     "name": "stdout",
     "output_type": "stream",
     "text": [
      "{'nsymbols': 25, 'alphabet': [' ', \"'\", ',', '?', 'B', 'H', 'P', 'R', 'a', 'c', 'd', 'e', 'f', 'h', 'i', 'k', 'l', 'n', 'o', 'r', 's', 't', 'u', 'w', 'y'], 'entropy': 2.9147375}\n"
     ]
    }
   ],
   "source": [
    "data = [\"Hello Bruno, how are you?\", \"Patrick Rothfuss le cronache dell'assassino del re\"]\n",
    "# data = [\"Hello Bruno, how are you?\"]\n",
    "data = [list(d) for d in data]\n",
    "translator = dlutils.dataset.DatasetTranslator(data, vocabulary_size=vocabulary_size)\n",
    "data_int = translator.to_int(data)\n",
    "data_int = [np.expand_dims(d, -1) for d in data_int]\n",
    "nsymbols = len(translator.alphabet)\n",
    "dense_layers = [{'num_units': nsymbols}]\n",
    "print(translator.conf)"
   ]
  },
  {
   "cell_type": "code",
   "execution_count": 5,
   "metadata": {
    "collapsed": false,
    "deletable": true,
    "editable": true
   },
   "outputs": [],
   "source": [
    "data_inputs, data_targets = dlutils.dataset.LM_input_and_targets_from_inputs(data_int)\n",
    "dataset = dlutils.dataset.Dataset_seq2seq(data_inputs, data_targets)"
   ]
  },
  {
   "cell_type": "code",
   "execution_count": 6,
   "metadata": {
    "collapsed": false,
    "deletable": true,
    "editable": true,
    "scrolled": true
   },
   "outputs": [],
   "source": [
    "input_stage = dlutils.models.RNNLM_TF_InputStage_OneHot(nsymbols)\n",
    "output_stage = dlutils.models.RNNLM_TF_OutputStage_Classification(nsymbols)\n",
    "feedback_stage = dlutils.models.RNNLM_TF_FeedbackStage_Sampler()\n",
    "model = dlutils.models.RNNLM_TF(input_stage, output_stage, feedback_stage, rnn_layers, dense_layers,\n",
    "                         optimizer=optimizer, learning_rate=learning_rate, \n",
    "                         keep_prob=keep_prob)"
   ]
  },
  {
   "cell_type": "code",
   "execution_count": 7,
   "metadata": {
    "collapsed": false,
    "deletable": true,
    "editable": true
   },
   "outputs": [],
   "source": [
    "# logger = dlutils.HtmlLogger(\"./log_dir\", \"loss\", log_delta_sec=20)\n",
    "trainer = dlutils.train.rnn.Trainer(dataset, model, batch_size=batch_size, logger=None, nfolds=nfolds, max_epochs=max_epochs)"
   ]
  },
  {
   "cell_type": "code",
   "execution_count": 8,
   "metadata": {
    "collapsed": false,
    "deletable": true,
    "editable": true,
    "scrolled": true
   },
   "outputs": [
    {
     "name": "stdout",
     "output_type": "stream",
     "text": [
      "*** new model ***\n",
      "{'batch_size': 2,\n",
      "'dataset': {'max_len': 49,\n",
      "           'min_len': 24,\n",
      "           'name': '',\n",
      "           'nseq': 2,\n",
      "           'slen': array([24, 49]),\n",
      "           'tot_len': 73},\n",
      "'max_epochs': 64,\n",
      "'model': {'dense_layers': [{'num_units': 25}],\n",
      "         'feedback_stage': {'avoid': [],\n",
      "                           'name': 'RNNLM_TF_FeedbackNoop',\n",
      "                           'temperature': 1.0},\n",
      "         'grad_clip': 5.0,\n",
      "         'init_scale': 0.1,\n",
      "         'input_stage': {'input_size': 1,\n",
      "                        'name': 'RNNLM_TF_InputStage_OneHot',\n",
      "                        'output_size': 25},\n",
      "         'keep_prob': 1,\n",
      "         'learning_rate': 0.1,\n",
      "         'optimizer': 'Adam',\n",
      "         'output_stage': {'input_size': 25,\n",
      "                         'name': 'RNNLM_TF_OutputStage_Classification',\n",
      "                         'output_size': 25,\n",
      "                         'target_size': 1},\n",
      "         'rnn_layers': [{'num_units': 32}]},\n",
      "'nfolds': 1,\n",
      "'proportion': 1,\n",
      "'save_every': 100}\n",
      "*****\n",
      "new fold\n",
      "*****\n",
      "*** epoch: 0\n",
      "epoch: 2 train loss: 3.04262900352\n",
      "*** epoch: 1\n",
      "epoch: 4 train loss: 2.79473614693\n",
      "*** epoch: 2\n",
      "epoch: 6 train loss: 2.42421686649\n",
      "*** epoch: 3\n",
      "epoch: 8 train loss: 2.04368847609\n",
      "*** epoch: 4\n",
      "epoch: 10 train loss: 1.61328828335\n",
      "*** epoch: 5\n",
      "epoch: 12 train loss: 1.13673663139\n",
      "*** epoch: 6\n",
      "epoch: 14 train loss: 0.718993812799\n",
      "*** epoch: 7\n",
      "epoch: 16 train loss: 0.417852774262\n",
      "*** epoch: 8\n",
      "epoch: 18 train loss: 0.24601893127\n",
      "*** epoch: 9\n",
      "epoch: 20 train loss: 0.160839021206\n",
      "*** epoch: 10\n",
      "epoch: 22 train loss: 0.0833022296429\n",
      "*** epoch: 11\n",
      "epoch: 24 train loss: 0.0461485404521\n",
      "*** epoch: 12\n",
      "epoch: 26 train loss: 0.0276834769174\n",
      "*** epoch: 13\n",
      "epoch: 28 train loss: 0.0168593372218\n",
      "*** epoch: 14\n",
      "epoch: 30 train loss: 0.0116960117593\n",
      "*** epoch: 15\n",
      "epoch: 32 train loss: 0.00786389689893\n",
      "*** epoch: 16\n",
      "epoch: 34 train loss: 0.00535192317329\n",
      "*** epoch: 17\n",
      "epoch: 36 train loss: 0.00399984710384\n",
      "*** epoch: 18\n",
      "epoch: 38 train loss: 0.00314226350747\n",
      "*** epoch: 19\n",
      "epoch: 40 train loss: 0.00247543852311\n",
      "*** epoch: 20\n",
      "epoch: 42 train loss: 0.00200609129388\n",
      "*** epoch: 21\n",
      "epoch: 44 train loss: 0.00170564948348\n",
      "*** epoch: 22\n",
      "epoch: 46 train loss: 0.0014808124397\n",
      "*** epoch: 23\n",
      "epoch: 48 train loss: 0.00129881384782\n",
      "*** epoch: 24\n",
      "epoch: 50 train loss: 0.00114519533236\n",
      "*** epoch: 25\n",
      "epoch: 52 train loss: 0.00101466756314\n",
      "*** epoch: 26\n",
      "epoch: 54 train loss: 0.000909147638595\n",
      "*** epoch: 27\n",
      "epoch: 56 train loss: 0.000829313124996\n",
      "*** epoch: 28\n",
      "epoch: 58 train loss: 0.000769494392443\n",
      "*** epoch: 29\n",
      "epoch: 60 train loss: 0.00072041869862\n",
      "*** epoch: 30\n",
      "epoch: 62 train loss: 0.000674713635817\n",
      "*** epoch: 31\n",
      "epoch: 64 train loss: 0.000631813745713\n",
      "*** epoch: 32\n",
      "epoch: 66 train loss: 0.000595106073888\n",
      "*** epoch: 33\n",
      "epoch: 68 train loss: 0.000565267779166\n",
      "*** epoch: 34\n",
      "epoch: 70 train loss: 0.000540222157724\n",
      "*** epoch: 35\n",
      "epoch: 72 train loss: 0.000517890555784\n",
      "*** epoch: 36\n",
      "epoch: 74 train loss: 0.00049749421305\n",
      "*** epoch: 37\n",
      "epoch: 76 train loss: 0.000479158567032\n",
      "*** epoch: 38\n",
      "epoch: 78 train loss: 0.00046305199794\n",
      "*** epoch: 39\n",
      "epoch: 80 train loss: 0.000448965962278\n",
      "*** epoch: 40\n",
      "epoch: 82 train loss: 0.0004363568587\n",
      "*** epoch: 41\n",
      "epoch: 84 train loss: 0.000424706857302\n",
      "*** epoch: 42\n",
      "epoch: 86 train loss: 0.000413691348513\n",
      "*** epoch: 43\n",
      "epoch: 88 train loss: 0.000403274942073\n",
      "*** epoch: 44\n",
      "epoch: 90 train loss: 0.000393545546103\n",
      "*** epoch: 45\n",
      "epoch: 92 train loss: 0.0003845160536\n",
      "*** epoch: 46\n",
      "epoch: 94 train loss: 0.000376122727175\n",
      "*** epoch: 47\n",
      "epoch: 96 train loss: 0.000368231761968\n",
      "*** epoch: 48\n",
      "epoch: 98 train loss: 0.000360717604053\n",
      "*** epoch: 49\n",
      "epoch: 100 train loss: 0.00035350600956\n",
      "*** epoch: 50\n",
      "epoch: 102 train loss: 0.000346592161804\n",
      "*** epoch: 51\n",
      "epoch: 104 train loss: 0.000340000537108\n",
      "*** epoch: 52\n",
      "epoch: 106 train loss: 0.000333684642101\n",
      "*** epoch: 53\n",
      "epoch: 108 train loss: 0.000327664121869\n",
      "*** epoch: 54\n",
      "epoch: 110 train loss: 0.000321890911437\n",
      "*** epoch: 55\n",
      "epoch: 112 train loss: 0.000316333957016\n",
      "*** epoch: 56\n",
      "epoch: 114 train loss: 0.000310941060889\n",
      "*** epoch: 57\n",
      "epoch: 116 train loss: 0.000305744077195\n",
      "*** epoch: 58\n",
      "epoch: 118 train loss: 0.000300731509924\n",
      "*** epoch: 59\n",
      "epoch: 120 train loss: 0.000295865844237\n",
      "*** epoch: 60\n",
      "epoch: 122 train loss: 0.000291169024422\n",
      "*** epoch: 61\n",
      "epoch: 124 train loss: 0.000286619091639\n",
      "*** epoch: 62\n",
      "epoch: 126 train loss: 0.000282205408439\n",
      "*** epoch: 63\n",
      "epoch: 128 train loss: 0.000277917366475\n"
     ]
    }
   ],
   "source": [
    "trainer.train()"
   ]
  },
  {
   "cell_type": "code",
   "execution_count": null,
   "metadata": {
    "collapsed": false,
    "deletable": true,
    "editable": true
   },
   "outputs": [],
   "source": [
    "x = dataset.format(0)\n",
    "for i, x_ in enumerate(x[0]):\n",
    "    print(i)\n",
    "    for x__, y__ in zip(x_[0], x_[1]):\n",
    "        print(translator.to_symbol(x__), translator.to_symbol(y__))"
   ]
  },
  {
   "cell_type": "code",
   "execution_count": 14,
   "metadata": {
    "collapsed": false,
    "deletable": true,
    "editable": true,
    "scrolled": true
   },
   "outputs": [
    {
     "name": "stdout",
     "output_type": "stream",
     "text": [
      "Hel\n"
     ]
    }
   ],
   "source": [
    "ofs = 0\n",
    "num_steps = 3\n",
    "priming_seq = data_int[0][ofs:num_steps+ofs, :]\n",
    "priming_str = to_str(priming_seq.flat, translator)\n",
    "print(priming_str)"
   ]
  },
  {
   "cell_type": "code",
   "execution_count": 15,
   "metadata": {
    "collapsed": false,
    "deletable": true,
    "editable": true,
    "scrolled": true
   },
   "outputs": [
    {
     "name": "stdout",
     "output_type": "stream",
     "text": [
      "Hello Bruno, how are you?o, how are you?onBrwno, how are you?onache dell'assassino \n"
     ]
    }
   ],
   "source": [
    "length = 80\n",
    "outputs = model.generate(priming_seq, length)\n",
    "out_str = to_str(np.array(outputs).flat, translator)\n",
    "print(priming_str + out_str)"
   ]
  },
  {
   "cell_type": "markdown",
   "metadata": {
    "deletable": true,
    "editable": true
   },
   "source": [
    "#### Generate dataset for seq2seq RNN"
   ]
  },
  {
   "cell_type": "code",
   "execution_count": null,
   "metadata": {
    "collapsed": false,
    "deletable": true,
    "editable": true
   },
   "outputs": [],
   "source": [
    "size = 10000\n",
    "in_size = 2\n",
    "out_size = 2\n",
    "deps_list = [\n",
    "    {'delay': 3, 'in_symbol': 1, 'out_symbol': 1, 'add_prob': .5},\n",
    "    {'delay': 8, 'in_symbol': 1, 'out_symbol': 1, 'add_prob': -.25},\n",
    "]"
   ]
  },
  {
   "cell_type": "code",
   "execution_count": null,
   "metadata": {
    "collapsed": false,
    "deletable": true,
    "editable": true
   },
   "outputs": [],
   "source": [
    "data = dlutils.gen_data_seq2seq(size, in_size, out_size, deps_list)"
   ]
  },
  {
   "cell_type": "code",
   "execution_count": null,
   "metadata": {
    "collapsed": false,
    "deletable": true,
    "editable": true
   },
   "outputs": [],
   "source": [
    "dlutils.expected_cross_entropy(in_size, out_size, deps_list)"
   ]
  },
  {
   "cell_type": "code",
   "execution_count": null,
   "metadata": {
    "collapsed": true,
    "deletable": true,
    "editable": true
   },
   "outputs": [],
   "source": [
    "batch_size = 256\n",
    "rnn_layers = [{'num_units': 4, 'cell_type': 'Basic'}]\n",
    "dense_layers = [{'num_units': out_size}]\n",
    "keep_prob = 1\n",
    "nfolds = 1\n",
    "max_epochs = 10\n",
    "learning_rate = 0.1\n",
    "optimizer = \"Adagrad\""
   ]
  },
  {
   "cell_type": "code",
   "execution_count": null,
   "metadata": {
    "collapsed": false,
    "deletable": true,
    "editable": true
   },
   "outputs": [],
   "source": [
    "data_inputs, data_targets = dlutils.dataset.LM_input_and_targets_from_inputs([data[0]])\n",
    "dataset = dlutils.dataset.Dataset_seq2seq(data_inputs, data_targets)"
   ]
  },
  {
   "cell_type": "code",
   "execution_count": null,
   "metadata": {
    "collapsed": false,
    "deletable": true,
    "editable": true
   },
   "outputs": [],
   "source": [
    "input_stage = dlutils.models.RNNLM_TF_InputStage_OneHot(in_size)\n",
    "output_stage = dlutils.models.RNNLM_TF_OutputStage_Classification(out_size)\n",
    "feedback_stage = dlutils.models.RNNLM_TF_FeedbackStage_Noop()\n",
    "model = dlutils.models.RNNLM_TF(input_stage, output_stage, rnn_layers, dense_layers,\n",
    "                         optimizer=optimizer, learning_rate=learning_rate, \n",
    "                         keep_prob=keep_prob)"
   ]
  },
  {
   "cell_type": "code",
   "execution_count": null,
   "metadata": {
    "collapsed": false,
    "deletable": true,
    "editable": true
   },
   "outputs": [],
   "source": [
    "logger = dlutils.HtmlLogger(\"./log_dir\", \"loss\")\n",
    "test = dlutils.RNNTest(dataset, model, batch_size=batch_size, logger=logger, nfolds=nfolds, max_epochs=max_epochs)"
   ]
  },
  {
   "cell_type": "code",
   "execution_count": null,
   "metadata": {
    "collapsed": false,
    "deletable": true,
    "editable": true
   },
   "outputs": [],
   "source": [
    "test.test(False)"
   ]
  },
  {
   "cell_type": "markdown",
   "metadata": {
    "deletable": true,
    "editable": true
   },
   "source": [
    "#### Robbie Williams Dataset"
   ]
  },
  {
   "cell_type": "code",
   "execution_count": 147,
   "metadata": {
    "collapsed": true,
    "deletable": true,
    "editable": true
   },
   "outputs": [],
   "source": [
    "import re\n",
    "import shutil"
   ]
  },
  {
   "cell_type": "code",
   "execution_count": 180,
   "metadata": {
    "collapsed": false,
    "deletable": true,
    "editable": true
   },
   "outputs": [],
   "source": [
    "root = '/Users/brunodigiorgi/Downloads/RobbieWilliamsAnnotations/chords/'\n",
    "for rootdir, dirnames, filenames in os.walk(root):\n",
    "    for filename in filenames:\n",
    "        if(filename in ['.DS_Store']):\n",
    "            continue\n",
    "        old_fn = os.path.join(rootdir, filename)\n",
    "        year = re.search('chords/(\\d\\d\\d\\d)', fn).groups()[0]\n",
    "        album = os.path.split(rootdir)[1].replace(' \\'', '').replace('\\'', '').replace(' ', '_')\n",
    "        new_filename = 'robbie_williams_' + album + '_' + filename.replace(' \\'', '').replace('\\'', '').replace(' ', '_')\n",
    "        new_filename = new_filename.replace('GTChords.txt', '.chords').replace('GTKeys.txt', '.keys')\n",
    "        new_fn = os.path.join(root, new_filename)\n",
    "        shutil.copy(old_fn, new_fn)"
   ]
  },
  {
   "cell_type": "code",
   "execution_count": 200,
   "metadata": {
    "collapsed": false,
    "deletable": true,
    "editable": true
   },
   "outputs": [],
   "source": [
    "roots = [\n",
    "    '/Users/brunodigiorgi/Downloads/RobbieWilliamsAnnotations/chords/',\n",
    "    '/Users/brunodigiorgi/Downloads/RobbieWilliamsAnnotations/keys/',\n",
    "    '/Users/brunodigiorgi/Downloads/RobbieWilliamsAnnotations/beats/'\n",
    "]\n",
    "    \n",
    "fns = []\n",
    "for i, root in enumerate(roots):\n",
    "    fns.append([])\n",
    "    for fn in os.listdir(root):\n",
    "        if(os.path.isdir(os.path.join(root, fn))):\n",
    "            continue\n",
    "        if(fn == '.DS_Store'):\n",
    "            continue\n",
    "        fns[i].append(fn)\n",
    "        # change mode to 0666\n",
    "        os.chmod(os.path.join(root, fn), 0o666)"
   ]
  },
  {
   "cell_type": "code",
   "execution_count": 1,
   "metadata": {
    "collapsed": false,
    "deletable": true,
    "editable": true
   },
   "outputs": [],
   "source": [
    "import dlutils"
   ]
  },
  {
   "cell_type": "code",
   "execution_count": null,
   "metadata": {
    "collapsed": true,
    "deletable": true,
    "editable": true
   },
   "outputs": [],
   "source": [
    "dlutils.dataset."
   ]
  },
  {
   "cell_type": "code",
   "execution_count": 99,
   "metadata": {
    "collapsed": true,
    "deletable": true,
    "editable": true
   },
   "outputs": [],
   "source": [
    "N = 1000000\n",
    "mean = 10\n",
    "std = 20\n",
    "x = std * np.random.randn(N) + mean"
   ]
  },
  {
   "cell_type": "code",
   "execution_count": 117,
   "metadata": {
    "collapsed": false,
    "deletable": true,
    "editable": true
   },
   "outputs": [
    {
     "name": "stdout",
     "output_type": "stream",
     "text": [
      "expected value of the mean: 10.0009292812\n",
      "std error of the mean: 2.00312585157\n",
      "expected value of the std: 19.8398298471\n",
      "std error of the std: 1.39873333124\n"
     ]
    }
   ],
   "source": [
    "nsamples = 10000\n",
    "N_sample = N // nsamples\n",
    "x_samples = np.array([x[i*N_sample:(i+1)*N_sample] for i in range(nsamples)])\n",
    "mean_samples = np.mean(x_samples, axis=-1)\n",
    "std_samples = np.std(x_samples, axis=-1, ddof=0)\n",
    "\n",
    "print('expected value of the mean:', np.mean(mean_samples))\n",
    "print('std error of the mean:', np.std(mean_samples))\n",
    "print('expected value of the std:', np.mean(std_samples))\n",
    "print('std error of the std:', np.std(std_samples))"
   ]
  },
  {
   "cell_type": "code",
   "execution_count": 101,
   "metadata": {
    "collapsed": false,
    "deletable": true,
    "editable": true
   },
   "outputs": [],
   "source": [
    "true_var = np.sum(np.square(x - np.mean(x))) / N\n",
    "other_vars = [np.sum(np.square(x - (eps + np.mean(x)))) / N for eps in np.arange(-2, 2, .1)]"
   ]
  },
  {
   "cell_type": "code",
   "execution_count": 102,
   "metadata": {
    "collapsed": false,
    "deletable": true,
    "editable": true
   },
   "outputs": [
    {
     "name": "stdout",
     "output_type": "stream",
     "text": [
      "399.587816471\n"
     ]
    },
    {
     "data": {
      "text/plain": [
       "[<matplotlib.lines.Line2D at 0x113821f98>]"
      ]
     },
     "execution_count": 102,
     "metadata": {},
     "output_type": "execute_result"
    },
    {
     "data": {
      "image/png": "[encoded data removed]",
      "text/plain": [
       "<matplotlib.figure.Figure at 0x11159cf98>"
      ]
     },
     "metadata": {},
     "output_type": "display_data"
    }
   ],
   "source": [
    "print(true_var)\n",
    "plt.plot(other_vars)"
   ]
  }
 ],
 "metadata": {
  "kernelspec": {
   "display_name": "Python 3",
   "language": "python",
   "name": "python3"
  },
  "language_info": {
   "codemirror_mode": {
    "name": "ipython",
    "version": 3
   },
   "file_extension": ".py",
   "mimetype": "text/x-python",
   "name": "python",
   "nbconvert_exporter": "python",
   "pygments_lexer": "ipython3",
   "version": "3.5.3"
  },
  "toc": {
   "colors": {
    "hover_highlight": "#DAA520",
    "running_highlight": "#FF0000",
    "selected_highlight": "#FFD700"
   },
   "moveMenuLeft": true,
   "nav_menu": {
    "height": "120px",
    "width": "252px"
   },
   "navigate_menu": true,
   "number_sections": true,
   "sideBar": true,
   "threshold": 4,
   "toc_cell": true,
   "toc_section_display": "block",
   "toc_window_display": false
  }
 },
 "nbformat": 4,
 "nbformat_minor": 0
}
